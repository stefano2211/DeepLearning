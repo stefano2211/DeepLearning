{
  "cells": [
    {
      "cell_type": "code",
      "execution_count": null,
      "metadata": {
        "colab": {
          "base_uri": "https://localhost:8080/"
        },
        "id": "JHkfI9LaUhCD",
        "outputId": "ca68ec2b-9bd9-4742-ec66-8bfe3e635e3b"
      },
      "outputs": [
        {
          "name": "stdout",
          "output_type": "stream",
          "text": [
            "...1631%, 0 MB, 23967 KB/s, 0 seconds passed"
          ]
        },
        {
          "data": {
            "text/plain": [
              "('vgg102flowers_targets.mat', <http.client.HTTPMessage at 0x7afbf8242b90>)"
            ]
          },
          "execution_count": 1,
          "metadata": {},
          "output_type": "execute_result"
        }
      ],
      "source": [
        "import sys\n",
        "import time\n",
        "import urllib.request\n",
        "import tarfile\n",
        "import numpy as np\n",
        "\n",
        "def reporthook(count, block_size, total_size):\n",
        "    # From: https://blog.shichao.io/2012/10/04/progress_speed_indicator_for_urlretrieve_in_python.html\n",
        "    global start_time\n",
        "    if count == 0:\n",
        "        start_time = time.time()\n",
        "        return\n",
        "    duration = time.time() - start_time\n",
        "    progress_size = int(count * block_size)\n",
        "    speed = int(progress_size / (1024 * duration))\n",
        "    percent = int(count * block_size * 100 / total_size)\n",
        "    sys.stdout.write(\"\\r...%d%%, %d MB, %d KB/s, %d seconds passed\" %\n",
        "                    (percent, progress_size / (1024 * 1024), speed, duration))\n",
        "    sys.stdout.flush()\n",
        "\n",
        "# Download and extract\n",
        "data_url = 'http://www.robots.ox.ac.uk/~vgg/data/flowers/102/102flowers.tgz'\n",
        "urllib.request.urlretrieve(data_url, 'vgg102flowers.tar.gz', reporthook)\n",
        "tar = tarfile.open('vgg102flowers.tar.gz', \"r:gz\")\n",
        "tar.extractall()\n",
        "tar.close()\n",
        "\n",
        "labels_url = 'http://www.robots.ox.ac.uk/~vgg/data/flowers/102/imagelabels.mat'\n",
        "urllib.request.urlretrieve(labels_url, 'vgg102flowers_targets.mat', reporthook)"
      ]
    },
    {
      "cell_type": "code",
      "execution_count": null,
      "metadata": {
        "colab": {
          "base_uri": "https://localhost:8080/"
        },
        "id": "-6uImBgtVNjC",
        "outputId": "392cc944-e4f6-4473-893b-c767d7524953"
      },
      "outputs": [
        {
          "name": "stdout",
          "output_type": "stream",
          "text": [
            "Requirement already satisfied: scipy in /usr/local/lib/python3.10/dist-packages (1.11.4)\n",
            "Requirement already satisfied: numpy<1.28.0,>=1.21.6 in /usr/local/lib/python3.10/dist-packages (from scipy) (1.25.2)\n"
          ]
        }
      ],
      "source": [
        "pip install scipy"
      ]
    },
    {
      "cell_type": "code",
      "execution_count": null,
      "metadata": {
        "colab": {
          "base_uri": "https://localhost:8080/"
        },
        "id": "jLVlBKPZVdqD",
        "outputId": "9e973b4c-d911-4d7d-df44-0b5f8b0682e8"
      },
      "outputs": [
        {
          "name": "stdout",
          "output_type": "stream",
          "text": [
            "Loaded 8189 files.\n"
          ]
        }
      ],
      "source": [
        "from glob import glob\n",
        "from scipy.io import loadmat\n",
        "import keras\n",
        "\n",
        "# Files\n",
        "files = np.array(sorted(glob(\"jpg/*\")))\n",
        "\n",
        "# Targets\n",
        "mat = loadmat('vgg102flowers_targets.mat')\n",
        "labels = mat['labels'][0] - 1\n",
        "\n",
        "# Random permute (we can also shuffle the dataset)\n",
        "idx = np.random.permutation(len(files))\n",
        "files = files[idx]\n",
        "labels = labels[idx]\n",
        "\n",
        "# Load classes names\n",
        "# From: https://github.com/jimgoo/caffe-oxford102\n",
        "names = ['pink primrose', 'hard-leaved pocket orchid', 'canterbury bells', 'sweet pea', 'english marigold', 'tiger lily', 'moon orchid', 'bird of paradise', 'monkshood', 'globe thistle', 'snapdragon', \"colt's foot\", 'king protea', 'spear thistle', 'yellow iris', 'globe-flower', 'purple coneflower', 'peruvian lily', 'balloon flower', 'giant white arum lily', 'fire lily', 'pincushion flower', 'fritillary', 'red ginger', 'grape hyacinth', 'corn poppy', 'prince of wales feathers', 'stemless gentian', 'artichoke', 'sweet william', 'carnation', 'garden phlox', 'love in the mist', 'mexican aster', 'alpine sea holly', 'ruby-lipped cattleya', 'cape flower', 'great masterwort', 'siam tulip', 'lenten rose', 'barbeton daisy', 'daffodil', 'sword lily', 'poinsettia', 'bolero deep blue', 'wallflower', 'marigold', 'buttercup', 'oxeye daisy', 'common dandelion', 'petunia', 'wild pansy', 'primula', 'sunflower', 'pelargonium', 'bishop of llandaff', 'gaura', 'geranium', 'orange dahlia', 'pink-yellow dahlia?', 'cautleya spicata', 'japanese anemone', 'black-eyed susan', 'silverbush', 'californian poppy', 'osteospermum', 'spring crocus', 'bearded iris', 'windflower', 'tree poppy', 'gazania', 'azalea', 'water lily', 'rose', 'thorn apple', 'morning glory', 'passion flower', 'lotus', 'toad lily', 'anthurium', 'frangipani', 'clematis', 'hibiscus', 'columbine', 'desert-rose', 'tree mallow', 'magnolia', 'cyclamen ', 'watercress', 'canna lily', 'hippeastrum ', 'bee balm', 'ball moss', 'foxglove', 'bougainvillea', 'camellia', 'mallow', 'mexican petunia', 'bromelia', 'blanket flower', 'trumpet creeper', 'blackberry lily']\n",
        "\n",
        "print(\"Loaded %d files.\" % len(files))"
      ]
    },
    {
      "cell_type": "code",
      "execution_count": null,
      "metadata": {
        "colab": {
          "base_uri": "https://localhost:8080/"
        },
        "id": "BkPSMcFgWNP6",
        "outputId": "f3837e65-77f2-4c0a-f7dd-0bf756e09e1e"
      },
      "outputs": [
        {
          "name": "stdout",
          "output_type": "stream",
          "text": [
            "Train:  (4913,)\n",
            "Valid:  (1638,)\n",
            "Test:  (1638,)\n"
          ]
        }
      ],
      "source": [
        "from sklearn.model_selection import train_test_split\n",
        "\n",
        "# Train/valid/test split\n",
        "train_valid_files, test_files, train_valid_labels, test_labels = train_test_split(\n",
        "    files, labels, test_size=0.2, random_state=1234, stratify=labels)\n",
        "train_files, valid_files, train_labels, valid_labels = train_test_split(\n",
        "    train_valid_files, train_valid_labels, test_size=0.25, random_state=5678, stratify=train_valid_labels)\n",
        "\n",
        "print(\"Train: \", train_files.shape)\n",
        "print(\"Valid: \", valid_files.shape)\n",
        "print(\"Test: \", test_files.shape)\n",
        "\n",
        "del train_valid_files, train_valid_labels"
      ]
    },
    {
      "cell_type": "code",
      "execution_count": null,
      "metadata": {
        "id": "-6Co-kFpWUFy"
      },
      "outputs": [],
      "source": [
        "import pandas as pd\n",
        "\n",
        "train_frame = pd.DataFrame(np.array([train_files, train_labels]).T, columns=['files','labels'])\n",
        "valid_frame = pd.DataFrame(np.array([valid_files, valid_labels]).T, columns=['files','labels'])\n",
        "test_frame = pd.DataFrame(np.array([test_files, test_labels]).T, columns=['files','labels'])"
      ]
    },
    {
      "cell_type": "code",
      "execution_count": null,
      "metadata": {
        "colab": {
          "base_uri": "https://localhost:8080/"
        },
        "id": "_veMhj65WYEq",
        "outputId": "93bf8b7f-c5c5-40ca-8ad6-cdf25e2cdd47"
      },
      "outputs": [
        {
          "name": "stdout",
          "output_type": "stream",
          "text": [
            "Found 4913 validated image filenames belonging to 102 classes.\n",
            "Found 1638 validated image filenames belonging to 102 classes.\n",
            "Found 1638 validated image filenames belonging to 102 classes.\n"
          ]
        }
      ],
      "source": [
        "from keras.preprocessing.image import ImageDataGenerator\n",
        "\n",
        "# cuando definimos ImageDataGenerator incluimos los preprocesamientos a realizar\n",
        "train_datagen = ImageDataGenerator(rescale=1./255)\n",
        "valid_datagen = ImageDataGenerator(rescale=1./255)\n",
        "test_datagen = ImageDataGenerator(rescale=1./255)\n",
        "\n",
        "# y con esta indicamos como vamos a leer la información y de donde.\n",
        "train_iter = train_datagen.flow_from_dataframe(train_frame,\n",
        "                                               x_col='files',\n",
        "                                               y_col='labels',\n",
        "                                               target_size=(100, 120),\n",
        "                                               class_mode='categorical',\n",
        "                                               batch_size=32,\n",
        "                                               shuffle=True)\n",
        "\n",
        "valid_iter = valid_datagen.flow_from_dataframe(valid_frame,\n",
        "                                               x_col='files',\n",
        "                                               y_col='labels',\n",
        "                                               target_size=(100, 120),\n",
        "                                               class_mode='categorical',\n",
        "                                               batch_size=32,\n",
        "                                               shuffle=False)\n",
        "\n",
        "test_iter = test_datagen.flow_from_dataframe(test_frame,\n",
        "                                             x_col='files',\n",
        "                                             y_col='labels',\n",
        "                                             target_size=(100, 120),\n",
        "                                             class_mode='categorical',\n",
        "                                             batch_size=32,\n",
        "                                             shuffle=False)"
      ]
    },
    {
      "cell_type": "code",
      "execution_count": null,
      "metadata": {
        "id": "iAjcKt9gWggK"
      },
      "outputs": [],
      "source": [
        "from keras.models import Sequential\n",
        "from keras.layers import Dense, Dropout, Flatten\n",
        "from keras.layers import Conv2D, MaxPooling2D\n",
        "from keras.optimizers import SGD\n",
        "\n",
        "# definimos el modelo lineal\n",
        "model = Sequential()\n",
        "\n",
        "# recordemos que en la primera capa hay que indicar el tamaño de la entrada\n",
        "model.add(Conv2D(32, (5, 5), activation='relu', input_shape=(100, 120, 3)))\n",
        "model.add(MaxPooling2D(pool_size=(2, 2)))\n",
        "\n",
        "model.add(Conv2D(64, (5, 5), activation='relu'))\n",
        "model.add(MaxPooling2D(pool_size=(2, 2)))\n",
        "\n",
        "# Antes de poder pasar de la capa convolucional a la densa, es necesario \"aplanar\" la salida, por eso se usa Flatten\n",
        "model.add(Flatten())\n",
        "model.add(Dense(1024, activation='relu'))\n",
        "model.add(Dropout(0.5))\n",
        "\n",
        "# finalmente creamos la capa de salida, con el tamaño de las etiquetas de nuestro problema\n",
        "model.add(Dense(102, activation='softmax'))"
      ]
    },
    {
      "cell_type": "code",
      "execution_count": null,
      "metadata": {
        "colab": {
          "base_uri": "https://localhost:8080/"
        },
        "id": "QtxvWTkDWmJi",
        "outputId": "b459658c-7ac0-4287-cda6-fdef512ac338"
      },
      "outputs": [
        {
          "name": "stdout",
          "output_type": "stream",
          "text": [
            "Model: \"sequential\"\n",
            "_________________________________________________________________\n",
            " Layer (type)                Output Shape              Param #   \n",
            "=================================================================\n",
            " conv2d (Conv2D)             (None, 96, 116, 32)       2432      \n",
            "                                                                 \n",
            " max_pooling2d (MaxPooling2  (None, 48, 58, 32)        0         \n",
            " D)                                                              \n",
            "                                                                 \n",
            " conv2d_1 (Conv2D)           (None, 44, 54, 64)        51264     \n",
            "                                                                 \n",
            " max_pooling2d_1 (MaxPoolin  (None, 22, 27, 64)        0         \n",
            " g2D)                                                            \n",
            "                                                                 \n",
            " flatten (Flatten)           (None, 38016)             0         \n",
            "                                                                 \n",
            " dense (Dense)               (None, 1024)              38929408  \n",
            "                                                                 \n",
            " dropout (Dropout)           (None, 1024)              0         \n",
            "                                                                 \n",
            " dense_1 (Dense)             (None, 102)               104550    \n",
            "                                                                 \n",
            "=================================================================\n",
            "Total params: 39087654 (149.11 MB)\n",
            "Trainable params: 39087654 (149.11 MB)\n",
            "Non-trainable params: 0 (0.00 Byte)\n",
            "_________________________________________________________________\n"
          ]
        }
      ],
      "source": [
        "model.summary()"
      ]
    },
    {
      "cell_type": "code",
      "execution_count": null,
      "metadata": {
        "colab": {
          "base_uri": "https://localhost:8080/"
        },
        "id": "daq37nlJWpu6",
        "outputId": "a15e9987-ebe3-4dc7-ca95-f53c4d5daefd"
      },
      "outputs": [
        {
          "data": {
            "text/plain": [
              "{'name': 'sequential',\n",
              " 'layers': [{'module': 'keras.layers',\n",
              "   'class_name': 'InputLayer',\n",
              "   'config': {'batch_input_shape': (None, 100, 120, 3),\n",
              "    'dtype': 'float32',\n",
              "    'sparse': False,\n",
              "    'ragged': False,\n",
              "    'name': 'conv2d_input'},\n",
              "   'registered_name': None},\n",
              "  {'module': 'keras.layers',\n",
              "   'class_name': 'Conv2D',\n",
              "   'config': {'name': 'conv2d',\n",
              "    'trainable': True,\n",
              "    'dtype': 'float32',\n",
              "    'batch_input_shape': (None, 100, 120, 3),\n",
              "    'filters': 32,\n",
              "    'kernel_size': (5, 5),\n",
              "    'strides': (1, 1),\n",
              "    'padding': 'valid',\n",
              "    'data_format': 'channels_last',\n",
              "    'dilation_rate': (1, 1),\n",
              "    'groups': 1,\n",
              "    'activation': 'relu',\n",
              "    'use_bias': True,\n",
              "    'kernel_initializer': {'module': 'keras.initializers',\n",
              "     'class_name': 'GlorotUniform',\n",
              "     'config': {'seed': None},\n",
              "     'registered_name': None},\n",
              "    'bias_initializer': {'module': 'keras.initializers',\n",
              "     'class_name': 'Zeros',\n",
              "     'config': {},\n",
              "     'registered_name': None},\n",
              "    'kernel_regularizer': None,\n",
              "    'bias_regularizer': None,\n",
              "    'activity_regularizer': None,\n",
              "    'kernel_constraint': None,\n",
              "    'bias_constraint': None},\n",
              "   'registered_name': None,\n",
              "   'build_config': {'input_shape': (None, 100, 120, 3)}},\n",
              "  {'module': 'keras.layers',\n",
              "   'class_name': 'MaxPooling2D',\n",
              "   'config': {'name': 'max_pooling2d',\n",
              "    'trainable': True,\n",
              "    'dtype': 'float32',\n",
              "    'pool_size': (2, 2),\n",
              "    'padding': 'valid',\n",
              "    'strides': (2, 2),\n",
              "    'data_format': 'channels_last'},\n",
              "   'registered_name': None,\n",
              "   'build_config': {'input_shape': (None, 96, 116, 32)}},\n",
              "  {'module': 'keras.layers',\n",
              "   'class_name': 'Conv2D',\n",
              "   'config': {'name': 'conv2d_1',\n",
              "    'trainable': True,\n",
              "    'dtype': 'float32',\n",
              "    'filters': 64,\n",
              "    'kernel_size': (5, 5),\n",
              "    'strides': (1, 1),\n",
              "    'padding': 'valid',\n",
              "    'data_format': 'channels_last',\n",
              "    'dilation_rate': (1, 1),\n",
              "    'groups': 1,\n",
              "    'activation': 'relu',\n",
              "    'use_bias': True,\n",
              "    'kernel_initializer': {'module': 'keras.initializers',\n",
              "     'class_name': 'GlorotUniform',\n",
              "     'config': {'seed': None},\n",
              "     'registered_name': None},\n",
              "    'bias_initializer': {'module': 'keras.initializers',\n",
              "     'class_name': 'Zeros',\n",
              "     'config': {},\n",
              "     'registered_name': None},\n",
              "    'kernel_regularizer': None,\n",
              "    'bias_regularizer': None,\n",
              "    'activity_regularizer': None,\n",
              "    'kernel_constraint': None,\n",
              "    'bias_constraint': None},\n",
              "   'registered_name': None,\n",
              "   'build_config': {'input_shape': (None, 48, 58, 32)}},\n",
              "  {'module': 'keras.layers',\n",
              "   'class_name': 'MaxPooling2D',\n",
              "   'config': {'name': 'max_pooling2d_1',\n",
              "    'trainable': True,\n",
              "    'dtype': 'float32',\n",
              "    'pool_size': (2, 2),\n",
              "    'padding': 'valid',\n",
              "    'strides': (2, 2),\n",
              "    'data_format': 'channels_last'},\n",
              "   'registered_name': None,\n",
              "   'build_config': {'input_shape': (None, 44, 54, 64)}},\n",
              "  {'module': 'keras.layers',\n",
              "   'class_name': 'Flatten',\n",
              "   'config': {'name': 'flatten',\n",
              "    'trainable': True,\n",
              "    'dtype': 'float32',\n",
              "    'data_format': 'channels_last'},\n",
              "   'registered_name': None,\n",
              "   'build_config': {'input_shape': (None, 22, 27, 64)}},\n",
              "  {'module': 'keras.layers',\n",
              "   'class_name': 'Dense',\n",
              "   'config': {'name': 'dense',\n",
              "    'trainable': True,\n",
              "    'dtype': 'float32',\n",
              "    'units': 1024,\n",
              "    'activation': 'relu',\n",
              "    'use_bias': True,\n",
              "    'kernel_initializer': {'module': 'keras.initializers',\n",
              "     'class_name': 'GlorotUniform',\n",
              "     'config': {'seed': None},\n",
              "     'registered_name': None},\n",
              "    'bias_initializer': {'module': 'keras.initializers',\n",
              "     'class_name': 'Zeros',\n",
              "     'config': {},\n",
              "     'registered_name': None},\n",
              "    'kernel_regularizer': None,\n",
              "    'bias_regularizer': None,\n",
              "    'activity_regularizer': None,\n",
              "    'kernel_constraint': None,\n",
              "    'bias_constraint': None},\n",
              "   'registered_name': None,\n",
              "   'build_config': {'input_shape': (None, 38016)}},\n",
              "  {'module': 'keras.layers',\n",
              "   'class_name': 'Dropout',\n",
              "   'config': {'name': 'dropout',\n",
              "    'trainable': True,\n",
              "    'dtype': 'float32',\n",
              "    'rate': 0.5,\n",
              "    'noise_shape': None,\n",
              "    'seed': None},\n",
              "   'registered_name': None,\n",
              "   'build_config': {'input_shape': (None, 1024)}},\n",
              "  {'module': 'keras.layers',\n",
              "   'class_name': 'Dense',\n",
              "   'config': {'name': 'dense_1',\n",
              "    'trainable': True,\n",
              "    'dtype': 'float32',\n",
              "    'units': 102,\n",
              "    'activation': 'softmax',\n",
              "    'use_bias': True,\n",
              "    'kernel_initializer': {'module': 'keras.initializers',\n",
              "     'class_name': 'GlorotUniform',\n",
              "     'config': {'seed': None},\n",
              "     'registered_name': None},\n",
              "    'bias_initializer': {'module': 'keras.initializers',\n",
              "     'class_name': 'Zeros',\n",
              "     'config': {},\n",
              "     'registered_name': None},\n",
              "    'kernel_regularizer': None,\n",
              "    'bias_regularizer': None,\n",
              "    'activity_regularizer': None,\n",
              "    'kernel_constraint': None,\n",
              "    'bias_constraint': None},\n",
              "   'registered_name': None,\n",
              "   'build_config': {'input_shape': (None, 1024)}}]}"
            ]
          },
          "execution_count": 9,
          "metadata": {},
          "output_type": "execute_result"
        }
      ],
      "source": [
        "model.get_config()"
      ]
    },
    {
      "cell_type": "code",
      "execution_count": null,
      "metadata": {
        "id": "DJXf2tnwcv4B"
      },
      "outputs": [],
      "source": [
        "import tensorflow as tf"
      ]
    },
    {
      "cell_type": "code",
      "execution_count": null,
      "metadata": {
        "colab": {
          "base_uri": "https://localhost:8080/"
        },
        "id": "h60Y3JHTWujq",
        "outputId": "81243e05-9a56-4307-fd87-3f2ebd262184"
      },
      "outputs": [
        {
          "name": "stderr",
          "output_type": "stream",
          "text": [
            "/usr/local/lib/python3.10/dist-packages/keras/src/optimizers/legacy/gradient_descent.py:114: UserWarning: The `lr` argument is deprecated, use `learning_rate` instead.\n",
            "  super().__init__(name, **kwargs)\n"
          ]
        },
        {
          "name": "stdout",
          "output_type": "stream",
          "text": [
            "Epoch 1/10\n",
            "153/153 [==============================] - 345s 2s/step - loss: 4.1951 - acc: 0.0672 - val_loss: 3.7563 - val_acc: 0.1078\n",
            "Epoch 2/10\n",
            "153/153 [==============================] - 291s 2s/step - loss: 3.6501 - acc: 0.1328 - val_loss: 3.4166 - val_acc: 0.1765\n",
            "Epoch 3/10\n",
            " 87/153 [================>.............] - ETA: 1:48 - loss: 3.2627 - acc: 0.2048"
          ]
        }
      ],
      "source": [
        "\n",
        "sgd = tf.keras.optimizers.legacy.SGD(lr=0.01, decay=1e-6, momentum=0.9, nesterov=True)\n",
        "model.compile(loss='categorical_crossentropy', optimizer=sgd, metrics=['acc'])\n",
        "\n",
        "\n",
        "history = model.fit(train_iter, steps_per_epoch = train_frame.shape[0]//train_iter.batch_size,\n",
        "                              epochs=10, validation_data=valid_iter,\n",
        "                              validation_steps= valid_frame.shape[0]//valid_iter.batch_size)"
      ]
    },
    {
      "cell_type": "code",
      "execution_count": null,
      "metadata": {
        "id": "iFm2_HKKpvaP"
      },
      "outputs": [],
      "source": [
        "score = model.evaluate(valid_iter, steps= valid_frame.shape[0]//valid_iter.batch_size)\n",
        "print(\"loss en validación: {} \\naccuracy en validación: {}\".format(score[0],score[1]))\n",
        "score = model.evaluate(test_iter, steps= test_frame.shape[0]//test_iter.batch_size)\n",
        "print(\"loss en test: {} \\naccuracy en test: {}\".format(score[0],score[1]))"
      ]
    },
    {
      "cell_type": "code",
      "execution_count": null,
      "metadata": {
        "id": "xF9ggnmSqEv3"
      },
      "outputs": [],
      "source": [
        "import matplotlib.pyplot as plt\n"
      ]
    },
    {
      "cell_type": "code",
      "execution_count": null,
      "metadata": {
        "id": "DQugQrjgp-j3"
      },
      "outputs": [],
      "source": [
        "plt.plot(history.history['loss'])\n",
        "plt.plot(history.history['val_loss'])\n",
        "plt.legend(['train','valid'])\n",
        "plt.title('Cross Entropy')\n",
        "plt.show()"
      ]
    },
    {
      "cell_type": "code",
      "execution_count": null,
      "metadata": {
        "id": "fozoroLuqJ_O"
      },
      "outputs": [],
      "source": [
        "plt.plot(history.history['acc'])\n",
        "plt.plot(history.history['val_acc'])\n",
        "plt.legend(['train','valid'])\n",
        "plt.title('Accuracy')\n",
        "plt.show()"
      ]
    },
    {
      "cell_type": "code",
      "execution_count": null,
      "metadata": {
        "id": "L8XJR5y3qOVe"
      },
      "outputs": [],
      "source": [
        "train_datagen_augmented = ImageDataGenerator(rescale=1./255, horizontal_flip = True, vertical_flip = True, rotation_range = 10)\n",
        "\n",
        "train_iter_augmented = train_datagen_augmented.flow_from_dataframe(train_frame,\n",
        "                                                                   x_col='files',\n",
        "                                                                   y_col='labels',\n",
        "                                                                   target_size=(100, 120),\n",
        "                                                                   class_mode='categorical',\n",
        "                                                                   batch_size=32,\n",
        "                                                                   shuffle=True)"
      ]
    },
    {
      "cell_type": "code",
      "execution_count": null,
      "metadata": {
        "id": "M6824YRPqTtm"
      },
      "outputs": [],
      "source": [
        "from keras.models import Sequential\n",
        "from keras.layers import Dense, Dropout, Flatten\n",
        "from keras.layers import Conv2D, MaxPooling2D\n",
        "from keras.optimizers import SGD\n",
        "\n",
        "# definimos el modelo lineal\n",
        "model = Sequential()\n",
        "\n",
        "# el primer bloque convolucional completo, formado de dos capas convolucionales con activación relu,\n",
        "# un max pooling y un dropout.\n",
        "\n",
        "# recordemos que en la primera capa hay que indicar el tamaño de la entrada\n",
        "model.add(Conv2D(32, (5, 5), activation='relu', input_shape=(100, 120, 3)))\n",
        "model.add(MaxPooling2D(pool_size=(2, 2)))\n",
        "\n",
        "model.add(Conv2D(64, (5, 5), activation='relu'))\n",
        "model.add(MaxPooling2D(pool_size=(2, 2)))\n",
        "\n",
        "# Antes de poder pasar de la capa convolucional a la densa, es necesario \"aplanar\" la salida, por eso se usa Flatten\n",
        "model.add(Flatten())\n",
        "model.add(Dense(1024, activation='relu'))\n",
        "model.add(Dropout(0.5))\n",
        "\n",
        "# finalmente creamos la capa de salida, con el tamaño de las etiquetas de nuestro problema\n",
        "model.add(Dense(102, activation='softmax'))"
      ]
    },
    {
      "cell_type": "code",
      "execution_count": null,
      "metadata": {
        "colab": {
          "background_save": true
        },
        "id": "0uSyMXICqY2m"
      },
      "outputs": [],
      "source": [
        "\n",
        "sgd = tf.keras.optimizers.legacy.SGD(lr=0.01, decay=1e-6, momentum=0.9, nesterov=True)\n",
        "model.compile(loss='categorical_crossentropy', optimizer=sgd, metrics=['acc'])\n",
        "\n",
        "\n",
        "history = model.fit(train_iter, steps_per_epoch = train_frame.shape[0]//train_iter.batch_size,\n",
        "                              epochs=10, validation_data=valid_iter,\n",
        "                              validation_steps= valid_frame.shape[0]//valid_iter.batch_size)"
      ]
    },
    {
      "cell_type": "code",
      "execution_count": null,
      "metadata": {
        "id": "Ecp4XAKWJriS"
      },
      "outputs": [],
      "source": [
        "score = model.evaluate(valid_iter, steps= valid_frame.shape[0]//valid_iter.batch_size)\n",
        "print(\"loss en validación: {} \\naccuracy en validación: {}\".format(score[0],score[1]))\n",
        "score = model.evaluate(test_iter, steps= test_frame.shape[0]//test_iter.batch_size)\n",
        "print(\"loss en test: {} \\naccuracy en test: {}\".format(score[0],score[1]))"
      ]
    },
    {
      "cell_type": "code",
      "execution_count": null,
      "metadata": {
        "id": "aH0SWKvjJ82L"
      },
      "outputs": [],
      "source": [
        "plt.plot(history.history['loss'])\n",
        "plt.plot(history.history['val_loss'])\n",
        "plt.legend(['train','valid'])\n",
        "plt.title('Cross Entropy')\n",
        "plt.show()"
      ]
    },
    {
      "cell_type": "code",
      "execution_count": null,
      "metadata": {
        "id": "8jjbzvWNKAXK"
      },
      "outputs": [],
      "source": [
        "plt.plot(history.history['acc'])\n",
        "plt.plot(history.history['val_acc'])\n",
        "plt.legend(['train','valid'])\n",
        "plt.title('Accuracy')\n",
        "plt.show()"
      ]
    },
    {
      "cell_type": "code",
      "execution_count": null,
      "metadata": {
        "id": "KIOa56kUKD73"
      },
      "outputs": [],
      "source": []
    }
  ],
  "metadata": {
    "colab": {
      "provenance": []
    },
    "kernelspec": {
      "display_name": "Python 3",
      "name": "python3"
    },
    "language_info": {
      "name": "python",
      "version": "3.11.8"
    }
  },
  "nbformat": 4,
  "nbformat_minor": 0
}
